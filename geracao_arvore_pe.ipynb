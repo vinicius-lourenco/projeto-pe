{
 "cells": [
  {
   "cell_type": "markdown",
   "metadata": {},
   "source": [
    "Primeiro, devemos importar as bibliotecas que serão utilizadas durante todo o notebook\n"
   ]
  },
  {
   "cell_type": "code",
   "execution_count": 192,
   "metadata": {},
   "outputs": [],
   "source": [
    "%matplotlib inline\n",
    "\n",
    "import numpy as np\n",
    "import pandas as pd\n",
    "import matplotlib.pyplot as plt\n",
    "import seaborn as sns\n",
    "import scipy\n",
    "from scipy import stats"
   ]
  },
  {
   "cell_type": "markdown",
   "metadata": {},
   "source": [
    "Em seguida, deve-se criar um dataframe com os dados que serão utilizados e, remover as variáveis não utilizadas"
   ]
  },
  {
   "cell_type": "code",
   "execution_count": 205,
   "metadata": {},
   "outputs": [],
   "source": [
    "df = pd.read_excel(r\"data_set_processado_final.xlsx\")\n",
    "df = df.drop(columns = [\"id\", \"zipcode\", \"date\", \"waterfront\", \"price/sqft_living\", \"lat\", \"long\"])"
   ]
  },
  {
   "cell_type": "markdown",
   "metadata": {},
   "source": [
    "Separando a coluna de classificação do resto do data set"
   ]
  },
  {
   "cell_type": "code",
   "execution_count": 207,
   "metadata": {},
   "outputs": [],
   "source": [
    "from sklearn.model_selection import train_test_split\n",
    "from sklearn.tree import DecisionTreeClassifier\n",
    "\n",
    "atributos = list(df.columns.values)\n",
    "atributos.remove('abaixo_da_media')\n",
    "\n",
    "X = df.loc[:, atributos]\n",
    "y = df.loc[:, 'abaixo_da_media']"
   ]
  },
  {
   "cell_type": "markdown",
   "metadata": {},
   "source": [
    "Testando os parâmetros da árvore com validação cruzada:"
   ]
  },
  {
   "cell_type": "code",
   "execution_count": 208,
   "metadata": {},
   "outputs": [
    {
     "name": "stdout",
     "output_type": "stream",
     "text": [
      "0.8143601190476191 {'max_depth': 6, 'min_samples_leaf': 9, 'min_samples_split': 19}\n"
     ]
    }
   ],
   "source": [
    "from sklearn.model_selection import GridSearchCV\n",
    "\n",
    "#parametros = {'max_depth':range(1,30), 'min_samples_leaf':range(1,60), 'min_samples_split': range(2,20), 'min_samples_leaf': range(1,10)}\n",
    "parametros = {'max_depth':range(1,30), 'min_samples_leaf':range(1,60), 'min_samples_split': range(2,20)}\n",
    "dtCV = GridSearchCV(DecisionTreeClassifier(random_state = 0), parametros, n_jobs=5, cv=4)\n",
    "dtCV.fit(X, y);\n",
    "tree_model = dtCV.best_estimator_\n",
    "print (dtCV.best_score_, dtCV.best_params_)"
   ]
  },
  {
   "cell_type": "markdown",
   "metadata": {},
   "source": [
    "Criando a árvore e ajustando ela aos dados."
   ]
  },
  {
   "cell_type": "code",
   "execution_count": 224,
   "metadata": {},
   "outputs": [
    {
     "data": {
      "text/plain": [
       "DecisionTreeClassifier(max_depth=6, min_samples_leaf=9, min_samples_split=19)"
      ]
     },
     "execution_count": 224,
     "metadata": {},
     "output_type": "execute_result"
    }
   ],
   "source": [
    "dt = DecisionTreeClassifier(max_depth=6, min_samples_leaf=9, min_samples_split=19)\n",
    "dt.fit(X,y)"
   ]
  },
  {
   "cell_type": "markdown",
   "metadata": {},
   "source": [
    "Gerando o arquivo para a arvore final gerada:"
   ]
  },
  {
   "cell_type": "code",
   "execution_count": 225,
   "metadata": {},
   "outputs": [],
   "source": [
    "from sklearn.tree import export_graphviz\n",
    "\n",
    "# Export as dot file\n",
    "export_graphviz(dt, out_file='tree.dot', \n",
    "                feature_names = X.columns,\n",
    "                class_names = [\"caro\", \"barato\"],\n",
    "                rounded = True, proportion = False, \n",
    "                precision = 2, filled = True)"
   ]
  }
 ],
 "metadata": {
  "kernelspec": {
   "display_name": "Python 3",
   "language": "python",
   "name": "python3"
  },
  "language_info": {
   "codemirror_mode": {
    "name": "ipython",
    "version": 3
   },
   "file_extension": ".py",
   "mimetype": "text/x-python",
   "name": "python",
   "nbconvert_exporter": "python",
   "pygments_lexer": "ipython3",
   "version": "3.8.6"
  }
 },
 "nbformat": 4,
 "nbformat_minor": 2
}